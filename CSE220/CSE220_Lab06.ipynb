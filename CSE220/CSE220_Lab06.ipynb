{
  "nbformat": 4,
  "nbformat_minor": 0,
  "metadata": {
    "colab": {
      "provenance": []
    },
    "kernelspec": {
      "name": "python3",
      "display_name": "Python 3"
    },
    "language_info": {
      "name": "python"
    }
  },
  "cells": [
    {
      "cell_type": "code",
      "execution_count": 1,
      "metadata": {
        "id": "Vv5mFzBpJZZg",
        "outputId": "76b3bd9c-f6cf-4f3e-a19a-4a0377cfd671",
        "colab": {
          "base_uri": "https://localhost:8080/"
        }
      },
      "outputs": [
        {
          "output_type": "stream",
          "name": "stdout",
          "text": [
            "6\n"
          ]
        }
      ],
      "source": [
        "#1a\n",
        "def factorial(x):\n",
        "  if x==1:\n",
        "    return x\n",
        "  else:\n",
        "    return(x*factorial(x-1))\n",
        "print(factorial(3))"
      ]
    },
    {
      "cell_type": "code",
      "source": [
        "#1b\n",
        "def fibonacci(x):\n",
        "  if x<=1:\n",
        "    return x\n",
        "  else:\n",
        "    return fibonacci(x-1)+fibonacci(x-2)\n",
        "print(fibonacci(8))"
      ],
      "metadata": {
        "id": "U0bssHvUJevJ",
        "outputId": "c7bc0fdb-6cf4-4fc4-b8f4-e637848d7874",
        "colab": {
          "base_uri": "https://localhost:8080/"
        }
      },
      "execution_count": 2,
      "outputs": [
        {
          "output_type": "stream",
          "name": "stdout",
          "text": [
            "21\n"
          ]
        }
      ]
    },
    {
      "cell_type": "code",
      "source": [
        "#1c\n",
        "def arrayPrint(arr):\n",
        "  n=len(arr)\n",
        "  if n==0:\n",
        "    return\n",
        "  else:\n",
        "    print(arr[0])\n",
        "    arrayPrint(arr[1:])\n",
        "arrayPrint([1,2,3,4,5,6,8,7])"
      ],
      "metadata": {
        "id": "jqAaiVpQJgKO",
        "outputId": "4bb6c76b-3c95-4494-9ad3-d6fe3a16fc20",
        "colab": {
          "base_uri": "https://localhost:8080/"
        }
      },
      "execution_count": 3,
      "outputs": [
        {
          "output_type": "stream",
          "name": "stdout",
          "text": [
            "1\n",
            "2\n",
            "3\n",
            "4\n",
            "5\n",
            "6\n",
            "8\n",
            "7\n"
          ]
        }
      ]
    },
    {
      "cell_type": "code",
      "source": [
        "#1d\n",
        "def powerN(x,n):\n",
        "  if n==1:\n",
        "    return x\n",
        "  else:\n",
        "    return x*powerN(x,(n-1))\n",
        "print(powerN(3,3))"
      ],
      "metadata": {
        "id": "v8lG6fUeJhw9",
        "outputId": "89f184d0-a96a-4b98-caba-0c30cb58f686",
        "colab": {
          "base_uri": "https://localhost:8080/"
        }
      },
      "execution_count": 4,
      "outputs": [
        {
          "output_type": "stream",
          "name": "stdout",
          "text": [
            "27\n"
          ]
        }
      ]
    },
    {
      "cell_type": "code",
      "source": [
        "#2a\n",
        "def findBinary(decimal_number):\n",
        "  if decimal_number == 0:\n",
        "    return 0\n",
        "  else:\n",
        "    return (decimal_number % 2 + 10 *findBinary(int(decimal_number // 2)))   \n",
        "decimal_number = 16\n",
        "print(findBinary(decimal_number))"
      ],
      "metadata": {
        "colab": {
          "base_uri": "https://localhost:8080/"
        },
        "id": "RP-VQzwAKZiX",
        "outputId": "d4db6f6a-3114-488d-aa8e-f08996c4cee4"
      },
      "execution_count": 5,
      "outputs": [
        {
          "output_type": "stream",
          "name": "stdout",
          "text": [
            "10000\n"
          ]
        }
      ]
    },
    {
      "cell_type": "code",
      "source": [
        "#2b\n",
        "class Node:\n",
        "  def __init__(self, e, n):\n",
        "    self.element = e\n",
        "    self.next = n\n",
        "\n",
        "class LinkedList:\n",
        "  def __init__(self, a):       \n",
        "    self.head = None\n",
        "    tail = self.head\n",
        "    if type(a) != Node:\n",
        "      for i in range(0,len(a)):\n",
        "        if i==0:\n",
        "          self.head=Node(a[i],None)\n",
        "          tail=self.head\n",
        "        else: \n",
        "          temp = Node(a[i],None)\n",
        "          tail.next = temp\n",
        "          tail = tail.next\n",
        "    else:\n",
        "      self.head=a\n",
        "\n",
        "def printer(arr):\n",
        "  if arr==None:\n",
        "    return 0\n",
        "  else:\n",
        "    return arr.element+printer(arr.next)\n",
        "\n",
        "a=[1,2,3,4]\n",
        "Li=LinkedList(a)\n",
        "print(printer(Li.head))"
      ],
      "metadata": {
        "id": "j3gxyBibJk8N",
        "outputId": "aacf1ac6-b2c7-4e02-a6ad-8c0f578e1a26",
        "colab": {
          "base_uri": "https://localhost:8080/"
        }
      },
      "execution_count": 6,
      "outputs": [
        {
          "output_type": "stream",
          "name": "stdout",
          "text": [
            "10\n"
          ]
        }
      ]
    },
    {
      "cell_type": "code",
      "source": [
        "#2c\n",
        "class Node:\n",
        "  def __init__(self, e, n):\n",
        "    self.element = e\n",
        "    self.next = n\n",
        "\n",
        "class LinkedList:\n",
        "  def __init__(self, a):       \n",
        "    self.head = None\n",
        "    tail = self.head\n",
        "    if type(a) != Node:\n",
        "      for i in range(0,len(a)):\n",
        "        if i==0:\n",
        "          self.head=Node(a[i],None)\n",
        "          tail=self.head\n",
        "        else: \n",
        "          temp = Node(a[i],None)\n",
        "          tail.next = temp\n",
        "          tail = tail.next\n",
        "    else:\n",
        "      self.head=a\n",
        "\n",
        "def printer(arr):\n",
        "  if arr==None:\n",
        "    return None\n",
        "  else:\n",
        "    printer(arr.next)\n",
        "    print(arr.element)\n",
        "\n",
        "a=[10,20,30,40]\n",
        "Li=LinkedList(a)\n",
        "printer(Li.head)"
      ],
      "metadata": {
        "id": "q0N0DasNJnBC",
        "outputId": "518b68b7-e11f-4964-ab03-f76ea4cdf19e",
        "colab": {
          "base_uri": "https://localhost:8080/"
        }
      },
      "execution_count": 7,
      "outputs": [
        {
          "output_type": "stream",
          "name": "stdout",
          "text": [
            "40\n",
            "30\n",
            "20\n",
            "10\n"
          ]
        }
      ]
    },
    {
      "cell_type": "code",
      "source": [
        "#3\n",
        "def hocBuilder(floor):\n",
        "  if floor==0:\n",
        "    return 8\n",
        "  else:\n",
        "    return 5+hocBuilder(floor-1)\n",
        "print(hocBuilder(2))"
      ],
      "metadata": {
        "id": "7pkE_LCaJovJ",
        "colab": {
          "base_uri": "https://localhost:8080/"
        },
        "outputId": "f5bbc899-05d3-44e1-edcf-6c911d541888"
      },
      "execution_count": 8,
      "outputs": [
        {
          "output_type": "stream",
          "name": "stdout",
          "text": [
            "18\n"
          ]
        }
      ]
    },
    {
      "cell_type": "code",
      "source": [
        "#4a\n",
        "def stairs(n):\n",
        "  if n==0:\n",
        "    return ''\n",
        "  else:\n",
        "    x=(stairs(n-1))+str(n)\n",
        "    print(x)\n",
        "    return x\n",
        "x=stairs(5)"
      ],
      "metadata": {
        "id": "dRC2FJXwJqIz",
        "outputId": "0edaab8f-4808-4555-86c2-3ecb2316fb32",
        "colab": {
          "base_uri": "https://localhost:8080/"
        }
      },
      "execution_count": 9,
      "outputs": [
        {
          "output_type": "stream",
          "name": "stdout",
          "text": [
            "1\n",
            "12\n",
            "123\n",
            "1234\n",
            "12345\n"
          ]
        }
      ]
    },
    {
      "cell_type": "code",
      "source": [
        "#4b\n",
        "def revstair(n,i=0):\n",
        "  if n==0:\n",
        "    return '',i\n",
        "  else:\n",
        "    s,i = revstair(n-1,i+1)\n",
        "    s += str(n)\n",
        "    print(' '*(i-n)+s)\n",
        "    return s,i\n",
        "x=revstair(5)"
      ],
      "metadata": {
        "id": "UV2QoHwYX-Hj",
        "outputId": "e611559f-5c3a-4a04-f72e-8ba0dca51c7e",
        "colab": {
          "base_uri": "https://localhost:8080/"
        }
      },
      "execution_count": 10,
      "outputs": [
        {
          "output_type": "stream",
          "name": "stdout",
          "text": [
            "    1\n",
            "   12\n",
            "  123\n",
            " 1234\n",
            "12345\n"
          ]
        }
      ]
    },
    {
      "cell_type": "code",
      "source": [
        "#5\n",
        "class FinalQ: \n",
        "  def print(self,array,idx): \n",
        "    if(idx<len(array)): \n",
        "      profit = self.calcProfit(array[idx])\n",
        "      print(f\"Investment: {array[idx]}; Profit: {profit}\")\n",
        "      self.print(array,idx+1)\n",
        "    else:\n",
        "      return\n",
        "  \n",
        "  def calcProfit(self,investment): \n",
        "    if investment<25000:\n",
        "      return \"Error\"\n",
        "    elif investment==25000:\n",
        "      return 0\n",
        "    elif investment<=100000:\n",
        "      p = self.calcProfit(25000)+(0.045*(investment-25000))\n",
        "      return p\n",
        "    else:\n",
        "      p = self.calcProfit(100000)+(0.08*(investment-100000))\n",
        "      return p\n",
        "\n",
        "array=[25000,100000,250000,350000] \n",
        "x = FinalQ() \n",
        "x.print(array,0)"
      ],
      "metadata": {
        "id": "yO5ksjb7cX1W",
        "colab": {
          "base_uri": "https://localhost:8080/"
        },
        "outputId": "aa5a215f-5767-4947-8af9-0a77b08d0348"
      },
      "execution_count": 11,
      "outputs": [
        {
          "output_type": "stream",
          "name": "stdout",
          "text": [
            "Investment: 25000; Profit: 0\n",
            "Investment: 100000; Profit: 3375.0\n",
            "Investment: 250000; Profit: 15375.0\n",
            "Investment: 350000; Profit: 23375.0\n"
          ]
        }
      ]
    }
  ]
}