{
  "nbformat": 4,
  "nbformat_minor": 0,
  "metadata": {
    "colab": {
      "name": "Assignment 7 ",
      "provenance": []
    },
    "kernelspec": {
      "name": "python3",
      "display_name": "Python 3"
    },
    "language_info": {
      "name": "python"
    }
  },
  "cells": [
    {
      "cell_type": "code",
      "execution_count": null,
      "metadata": {
        "colab": {
          "base_uri": "https://localhost:8080/"
        },
        "id": "IH3E7NleyIL6",
        "outputId": "fe90dc86-8738-4ce0-b8d3-12cc27dc07e1"
      },
      "outputs": [
        {
          "output_type": "stream",
          "name": "stdout",
          "text": [
            "Name: Default  Department: BBA\n",
            "Name: Humpty Dumpty  Department: BBA\n",
            "Name: Little Bo Peep  Department: BBA\n"
          ]
        }
      ],
      "source": [
        "# Task 01\n",
        "class Student:\n",
        "   def __init__(self, name='Just a student', dept='nothing'):\n",
        "     self.__name = name\n",
        "     self.__department = dept\n",
        "   def set_department(self, dept):\n",
        "     self.__department = dept\n",
        "   def get_name(self):\n",
        "     return self.__name\n",
        "   def set_name(self,name):\n",
        "     self.__name = name\n",
        "   def __str__(self):\n",
        "    return 'Name: '+self.__name+ '  Department: '+self.__department\n",
        "\n",
        "#write your code here\n",
        "class BBA_Student(Student):\n",
        "   def __init__(self, name = \"Default\", dept = \"BBA\"): \n",
        "       super().__init__(name, dept)\n",
        "             \n",
        "\n",
        "s1 = BBA_Student()\n",
        "s2 = BBA_Student('Humpty Dumpty')\n",
        "s3 = BBA_Student('Little Bo Peep')\n",
        "print(BBA_Student())\n",
        "print(BBA_Student('Humpty Dumpty'))\n",
        "print(BBA_Student('Little Bo Peep'))"
      ]
    },
    {
      "cell_type": "code",
      "source": [
        ""
      ],
      "metadata": {
        "id": "bQZj6VbezI_T"
      },
      "execution_count": null,
      "outputs": []
    },
    {
      "cell_type": "code",
      "source": [
        "# Task 02\n",
        "class Vehicle:\n",
        "     def __init__(self):\n",
        "         self.x = 0\n",
        "         self.y = 0\n",
        "\n",
        "     def moveUp(self):\n",
        "         self.y+=1\n",
        "     def moveDown(self):\n",
        "         self.y-=1\n",
        "     def moveRight(self):\n",
        "         self.x+=1\n",
        "     def moveLeft(self):\n",
        "         self.x-=1\n",
        "     \n",
        "     def __str__(self):\n",
        "         return '('+str(self.x)+' , '+str(self.y)+')'\n",
        "\n",
        "#write your code here\n",
        "class Vehicle2010(Vehicle) :\n",
        "     def moveUpperRight(self):\n",
        "        Vehicle.moveUp()     # self, super(), Vehicle .mehodName() - any can be used\n",
        "        Vehicle.moveRight()\n",
        "     def moveUpperLeft(self):\n",
        "        super().moveUp()\n",
        "        super().moveLeft()\n",
        "     def moveLowerLeft(self):\n",
        "        self.moveDown()\n",
        "        self.moveLeft()\n",
        "     def moveLowerRight(self):\n",
        "        super().moveDown()\n",
        "        super().moveRight()\n",
        "\n",
        "     def equals(self, other):   #  Using this in the parent Class would make more it more practical as we can then implement this method to other new classes by inheriting it from the parent class hence avoiding redundancy\n",
        "        if self.x == other.x and self.y == other.y :\n",
        "          return True\n",
        "        else :\n",
        "          return False\n",
        "\n",
        "print('Part 1')\n",
        "print('------')\n",
        "car = Vehicle()\n",
        "print(car)\n",
        "car.moveUp()\n",
        "print(car)\n",
        "car.moveLeft()\n",
        "print(car)\n",
        "car.moveDown()\n",
        "print(car)\n",
        "car.moveRight()\n",
        "print(car)\n",
        "print('------')\n",
        "print('Part 2')\n",
        "print('------')\n",
        "car1 = Vehicle2010()\n",
        "print(car1)\n",
        "car1.moveLowerLeft()\n",
        "print(car1)\n",
        "car2 = Vehicle2010()\n",
        "car2.moveLeft()\n",
        "print(car1.equals(car2))\n",
        "car2.moveDown()\n",
        "print(car1.equals(car2))"
      ],
      "metadata": {
        "colab": {
          "base_uri": "https://localhost:8080/"
        },
        "id": "stuWRIYVzJes",
        "outputId": "73189968-80dd-425c-cc01-3cefc6ee0a74"
      },
      "execution_count": null,
      "outputs": [
        {
          "output_type": "stream",
          "name": "stdout",
          "text": [
            "Part 1\n",
            "------\n",
            "(0 , 0)\n",
            "(0 , 1)\n",
            "(-1 , 1)\n",
            "(-1 , 0)\n",
            "(0 , 0)\n",
            "------\n",
            "Part 2\n",
            "------\n",
            "(0 , 0)\n",
            "(-1 , -1)\n",
            "False\n",
            "True\n"
          ]
        }
      ]
    },
    {
      "cell_type": "code",
      "source": [
        ""
      ],
      "metadata": {
        "id": "0ggeZ8-e6HOh"
      },
      "execution_count": null,
      "outputs": []
    },
    {
      "cell_type": "code",
      "source": [
        "# Task 03\n",
        "class Tournament:\n",
        "     def __init__(self,name='Default'):\n",
        "         self.__name = name\n",
        "     def set_name(self,name):\n",
        "         self.__name = name\n",
        "     def get_name(self):\n",
        "         return self.__name\n",
        "\n",
        "#write your code here\n",
        "class Cricket_Tournament(Tournament):\n",
        "     def __init__(self, name = \"Default\", no_of_team = 0, ptype = \"No type\"):\n",
        "         super().__init__(name)\n",
        "         self.no_of_team = no_of_team\n",
        "         self.ptype = ptype\n",
        "     \n",
        "     def detail(self):\n",
        "        return \"Cricket tornament name: \" + (self.get_name())+ \"\\n\" + \"Number of teams: \" + str(self.no_of_team)  + \"\\n\" +\"Type: \" + str(self.ptype)\n",
        "\n",
        "class Tennis_Tournament(Tournament):\n",
        "    def __init__(self, name , players): \n",
        "        super().__init__(name)\n",
        "        self.players = players\n",
        "    \n",
        "    def detail(self):\n",
        "       return \"Tennis tornament name: \" + self.get_name() + \"\\n\" + \"Number of teams: \" + str(self.players) \n",
        "\n",
        "ct1 = Cricket_Tournament()\n",
        "print(ct1.detail())\n",
        "print(\"-----------------------\")\n",
        "ct2 = Cricket_Tournament(\"IPL\",10,\"t20\")\n",
        "print(ct2.detail())\n",
        "print(\"-----------------------\")\n",
        "tt = Tennis_Tournament(\"Roland Garros\",128)\n",
        "print(tt.detail())"
      ],
      "metadata": {
        "colab": {
          "base_uri": "https://localhost:8080/"
        },
        "id": "gLsdN5Q46Ht2",
        "outputId": "22818139-d2e5-4b52-fc43-13faf028e779"
      },
      "execution_count": null,
      "outputs": [
        {
          "output_type": "stream",
          "name": "stdout",
          "text": [
            "Cricket tornament name: Default\n",
            "Number of teams: 0\n",
            "Type: No type\n",
            "-----------------------\n",
            "Cricket tornament name: IPL\n",
            "Number of teams: 10\n",
            "Type: t20\n",
            "-----------------------\n",
            "Tennis tornament name: Roland Garros\n",
            "Number of teams: 128\n"
          ]
        }
      ]
    },
    {
      "cell_type": "code",
      "source": [
        ""
      ],
      "metadata": {
        "id": "q1eUAmQKDBFV"
      },
      "execution_count": null,
      "outputs": []
    },
    {
      "cell_type": "code",
      "source": [
        "# task 04\n",
        "class Product:\n",
        "      def __init__(self,id, title, price):\n",
        "           self.__id = id\n",
        "           self. __title = title\n",
        "           self. __price = price\n",
        "      def get_id_title_price(self):\n",
        "          return \"ID: \"+str(self.__id)+\" Title: \"+self.__title+\"Price: \"+str(self.__price)\n",
        "\n",
        "#write your code here\n",
        "class Book(Product): \n",
        "      def __init__(self,id, title, price, isbn, publisher) :\n",
        "           super().__init__(id, title, price)\n",
        "           self.isbn = isbn\n",
        "           self.publisher = publisher\n",
        "\n",
        "      def printDetail(self):\n",
        "           return self.get_id_title_price() + \"\\n\" + \"ISBN: \" + self.isbn + \" Publisher: \" + self.publisher     \n",
        "\n",
        "class CD(Product):\n",
        "      def __init__(self,id, title, price, band, duration, genre) :\n",
        "           super().__init__(id, title, price)\n",
        "           self.band = band\n",
        "           self.duration = duration\n",
        "           self.genre = genre\n",
        "\n",
        "      def printDetail(self):\n",
        "           return self.get_id_title_price() + \"\\n\" + \"Band: \" + self.band + \" Duration: \" + str(self.duration) +\"minutes\" + \"\\n\" + \"Genre: \" + self.genre  \n",
        "\n",
        "book = Book(1,\"The Alchemist\",500,\"97806\",\"HarperCollins\")\n",
        "print(book.printDetail())\n",
        "print(\"-----------------------\")\n",
        "cd = CD(2,\"Shotto\",300,\"Warfaze\",50,\"Hard Rock\")\n",
        "print(cd.printDetail())"
      ],
      "metadata": {
        "colab": {
          "base_uri": "https://localhost:8080/"
        },
        "id": "EblX_ewjDBuF",
        "outputId": "7b9bba87-8b8f-4dcd-b409-68e49958c900"
      },
      "execution_count": null,
      "outputs": [
        {
          "output_type": "stream",
          "name": "stdout",
          "text": [
            "ID: 1 Title: The AlchemistPrice: 500\n",
            "ISBN: 97806 Publisher: HarperCollins\n",
            "-----------------------\n",
            "ID: 2 Title: ShottoPrice: 300\n",
            "Band: Warfaze Duration: 50minutes\n",
            "Genre: Hard Rock\n"
          ]
        }
      ]
    },
    {
      "cell_type": "code",
      "source": [
        ""
      ],
      "metadata": {
        "id": "ICtQNLCaF1Ss"
      },
      "execution_count": null,
      "outputs": []
    },
    {
      "cell_type": "code",
      "source": [
        "# Task 05\n",
        "\n",
        "class Animal:\n",
        "  def __init__(self,sound):\n",
        "    self.__sound = sound\n",
        "  def makeSound(self): \n",
        "    return self.__sound\n",
        "\n",
        "class Printer:\n",
        "   def printSound(self, a):\n",
        "      print(a.makeSound())\n",
        "\n",
        "#write your code here\n",
        "class Dog(Animal):\n",
        "    def __init__(self,sound):\n",
        "        super().__init__(sound)\n",
        "\n",
        "class Cat(Animal): \n",
        "     def __init__(self, sound): \n",
        "        super().__init__( sound)        \n",
        "\n",
        "\n",
        "d1 = Dog('bark')\n",
        "c1 = Cat('meow')\n",
        "a1 = Animal('Animal does not make sound')\n",
        "pr = Printer()\n",
        "pr.printSound(a1)\n",
        "pr.printSound(c1)\n",
        "pr.printSound(d1)"
      ],
      "metadata": {
        "colab": {
          "base_uri": "https://localhost:8080/"
        },
        "id": "FURBEzzvF1xw",
        "outputId": "577a4f43-c33b-435f-b7ea-a8132c981230"
      },
      "execution_count": null,
      "outputs": [
        {
          "output_type": "stream",
          "name": "stdout",
          "text": [
            "Animal does not make sound\n",
            "meow\n",
            "bark\n"
          ]
        }
      ]
    },
    {
      "cell_type": "code",
      "source": [
        ""
      ],
      "metadata": {
        "id": "WfDYKD-sc080"
      },
      "execution_count": null,
      "outputs": []
    },
    {
      "cell_type": "code",
      "source": [
        "# Task 06\n",
        "class Shape:\n",
        "   def __init__(self, name='Default', height=0, base=0):\n",
        "        self.area = 0\n",
        "        self.name = name\n",
        "        self.height = height\n",
        "        self.base = base\n",
        "  \n",
        "   def get_height_base(self):\n",
        "        return \"Height: \"+str(self.height)+\",Base: \"+str(self.base)\n",
        "\n",
        "#write your code here\n",
        "class triangle(Shape): \n",
        "   \n",
        "    def calcArea(self): \n",
        "       area = 0.5 * self.height * self.base\n",
        "       self.area += area\n",
        "       return area\n",
        "\n",
        "    def printDetail(self): \n",
        "       return \"Shape name: \" +self.name + \"\\n\" + \"Height: \"+ str(self.height)+ \"  Base: \"+ str(self.base)+ \" \\n\"+ \"Area: \" + str(float(self.area))\n",
        "\n",
        "\n",
        "class trapezoid(Shape): \n",
        "     def __init__(self, name , height, base, side):\n",
        "       super().__init__(name, height, base)\n",
        "       self.side = side\n",
        "\n",
        "     def calcArea(self): \n",
        "       area = 0.5 * (self.base+ self.side) * self.height\n",
        "       self.area += area\n",
        "       return area    \n",
        "     \n",
        "     def printDetail(self): \n",
        "        return \"Shape name: \" +self.name + \"\\n\" + \"Height: \"+ str(self.height) +\"  Base: \"+ str(self.base)+ \"  Side_A: \" + str(self.side) + \" \\n\"+ \"Area: \" + str(float(self.area))\n",
        "\n",
        "\n",
        "tri_default = triangle()\n",
        "tri_default.calcArea()\n",
        "print(tri_default.printDetail())\n",
        "print('--------------------------')\n",
        "tri = triangle('Triangle', 10, 5)\n",
        "tri.calcArea()\n",
        "print(tri.printDetail())\n",
        "print('---------------------------')\n",
        "trap = trapezoid('Trapezoid', 10, 6, 4)\n",
        "trap.calcArea()\n",
        "print(trap.printDetail())"
      ],
      "metadata": {
        "colab": {
          "base_uri": "https://localhost:8080/"
        },
        "id": "2F_V7aRCc1SU",
        "outputId": "3fb6cf4f-adec-4e63-f5c6-17855b1b4bfe"
      },
      "execution_count": null,
      "outputs": [
        {
          "output_type": "stream",
          "name": "stdout",
          "text": [
            "Shape name: Default\n",
            "Height: 0  Base: 0 \n",
            "Area: 0.0\n",
            "--------------------------\n",
            "Shape name: Triangle\n",
            "Height: 10  Base: 5 \n",
            "Area: 25.0\n",
            "---------------------------\n",
            "Shape name: Trapezoid\n",
            "Height: 10  Base: 6  Side_A: 4 \n",
            "Area: 50.0\n"
          ]
        }
      ]
    },
    {
      "cell_type": "code",
      "source": [
        ""
      ],
      "metadata": {
        "id": "aryn0EpeiQON"
      },
      "execution_count": null,
      "outputs": []
    },
    {
      "cell_type": "code",
      "source": [
        "# Task 07\n",
        "class Football:\n",
        "     def __init__(self, team_name, name, role):\n",
        "           self.__team = team_name\n",
        "           self.__name = name\n",
        "           self.role = role\n",
        "           self.earning_per_match = 0\n",
        "     def get_name_team(self):\n",
        "           return 'Name: '+self.__name+', Team Name: ' +self.__team\n",
        "\n",
        "#write your code here\n",
        "class Player(Football):\n",
        "      def __init__(self, team_name , name , role , goals, played_games): \n",
        "          super().__init__(team_name, name, role)\n",
        "          self.goal = goals\n",
        "          self.tplayed = played_games\n",
        "     \n",
        "      def calculate_ratio(self):\n",
        "          ratio = self.goal / self.tplayed\n",
        "          self.ratio = ratio\n",
        "      \n",
        "      def print_details(self):\n",
        "          earning = (self.goal * 1000) + (self.tplayed *10)\n",
        "          self.earning_per_match += earning\n",
        "          print(f'{self.get_name_team()} \\nTeam Role: {self.role} \\nTotal Goal: {self.goal}, Total Played: {self.tplayed} \\nGoal Ratio: {self.ratio} \\nMatch Earning: {self.earning_per_match}K')\n",
        "         \n",
        "class Manager(Football):\n",
        "      def __init__(self, name , team_name , role , wins): \n",
        "          super().__init__(name, team_name, role)\n",
        "          self.wins =  wins\n",
        "                 \n",
        "      def print_details(self):\n",
        "          earning = (self.wins * 1000) \n",
        "          self.earning_per_match += earning\n",
        "          print(f'{self.get_name_team()} \\nTeam Role: {self.role} \\nTotal Win: {self.wins} \\nMatch Earning: {self.earning_per_match}K')\n",
        "\n",
        "\n",
        "\n",
        "player_one = Player('Juventus', 'Ronaldo', 'Striker', 25, 32)\n",
        "player_one.calculate_ratio()\n",
        "player_one.print_details()\n",
        "print('------------------------------------------')\n",
        "manager_one = Manager('Real Madrid', 'Zidane', 'Manager', 25)\n",
        "manager_one.print_details()"
      ],
      "metadata": {
        "colab": {
          "base_uri": "https://localhost:8080/"
        },
        "id": "z-YDHQUYiQV-",
        "outputId": "278e919e-cf3c-47ba-afde-3978012c74a5"
      },
      "execution_count": null,
      "outputs": [
        {
          "output_type": "stream",
          "name": "stdout",
          "text": [
            "Name: Ronaldo, Team Name: Juventus \n",
            "Team Role: Striker \n",
            "Total Goal: 25, Total Played: 32 \n",
            "Goal Ratio: 0.78125 \n",
            "Match Earning: 25320K\n",
            "------------------------------------------\n",
            "Name: Zidane, Team Name: Real Madrid \n",
            "Team Role: Manager \n",
            "Total Win: 25, \n",
            "Match Earning: 25000K\n"
          ]
        }
      ]
    }
  ]
}