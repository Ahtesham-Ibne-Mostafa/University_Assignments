{
 "cells": [
  {
   "cell_type": "code",
   "execution_count": 4,
   "id": "730fa727",
   "metadata": {},
   "outputs": [
    {
     "name": "stdout",
     "output_type": "stream",
     "text": [
      "Enter number of users: 4\n",
      "Enter name: Zubayer Ahmed\n",
      "Enter name: Sadia Nur Amin\n",
      "Enter name: Mehedi Hasan Shawon\n",
      "Enter name: Nafis\n",
      "{'Fname': ['Zubayer', 'Sadia', 'Mehedi', 'Nafis'], 'Mname': ['Nur', 'Hasan'], 'Lname': ['Ahmed', 'Amin', 'Shawon']}\n"
     ]
    }
   ],
   "source": [
    "#1\n",
    "num_of_users = int(input(\"Enter number of users: \"))\n",
    "name_dic = {'Fname':[],'Mname':[],'Lname':[]}\n",
    "for i in range(num_of_users):\n",
    "    name = input(\"Enter name: \")\n",
    "    fml_lst = name.split()\n",
    "    for j in range(len(fml_lst)):\n",
    "        if j==0 :\n",
    "            name_dic['Fname'].append(fml_lst[j])\n",
    "        elif j==len(fml_lst)-1:\n",
    "            name_dic['Lname'].append(fml_lst[j])\n",
    "        else:\n",
    "            name_dic['Mname'].append(fml_lst[j])\n",
    "print(name_dic)            "
   ]
  },
  {
   "cell_type": "code",
   "execution_count": 26,
   "id": "3e54d886",
   "metadata": {},
   "outputs": [
    {
     "name": "stdout",
     "output_type": "stream",
     "text": [
      "Enter a DNA sequence: ATTCGATCG\n",
      "Enter len: 3\n",
      "ATT 1\n",
      "TTC 1\n",
      "TCG 2\n",
      "CGA 1\n",
      "GAT 1\n",
      "ATC 1\n",
      "Dominant Pattern: TCG\n"
     ]
    }
   ],
   "source": [
    "#2\n",
    "dna_seq = input(\"Enter a DNA sequence: \")\n",
    "dic = {}\n",
    "num = int(input(\"Enter len: \"))\n",
    "for i in range(len(dna_seq)):\n",
    "    dna = dna_seq[i:num+i]\n",
    "    if len(dna)==num:\n",
    "        if dna not in dic:\n",
    "            dic[dna] = 1\n",
    "        else:\n",
    "            dic[dna] += 1\n",
    "dna_lst = []            \n",
    "for key,value in dic.items():\n",
    "    print(key,value)\n",
    "    if value>1:\n",
    "        dominant = key\n",
    "        dna_lst.append(dominant)\n",
    "if len(dna_lst)>1:\n",
    "    print(\"No Dominant Pattern found.\")\n",
    "else:\n",
    "    print(\"Dominant Pattern:\", dominant)\n"
   ]
  },
  {
   "cell_type": "code",
   "execution_count": 95,
   "id": "8431828b",
   "metadata": {},
   "outputs": [
    {
     "name": "stdout",
     "output_type": "stream",
     "text": [
      "Enter player data: NaVi flamie 23 13 3 2 2 0 \n",
      "Enter player data: Fnatic Xizt 15 20 3 2 0 2\n",
      "Enter player data: Fnatic KRIMZ 12 23 9 2 2 1\n",
      "Enter player data: Navi electronic 24 13 5 2 2 0\n",
      "Enter player data: Navi Zeus 14 22 12 2 2 0\n",
      "Enter player data: Navi Edward 20 18 8 1 1 1\n",
      "Enter player data: Fnatic JW 13 24 5 3 0 0\n",
      "Enter player data: Navi s1mple 26 13 6 3 2 1\n",
      "Enter player data: Fnatic twist 25 20 4 2 3 2\n",
      "Enter player data: Fnatic Brollan 14 20 3 2 1 0\n",
      "[59, 37, 43, 63, 50, 53, 37, 70, 67, 38]\n",
      "First: s1mple\n",
      "Second twist\n",
      "Third electronic\n"
     ]
    }
   ],
   "source": [
    "#3\n",
    "point_lst = []\n",
    "n_list = []\n",
    "for i in range(10):\n",
    "    player_data = input(\"Enter player data: \")\n",
    "    data_list = player_data.split()\n",
    "    point = 0\n",
    "    n_list.append(data_list[1])\n",
    "    for j in range(len(data_list)):        \n",
    "        if j==2:            \n",
    "            point+=(int(data_list[j])*2)            \n",
    "        elif j==4:\n",
    "            point+=(int(data_list[j])*1)\n",
    "        elif j==5:\n",
    "            point+=(int(data_list[j])*2)\n",
    "        elif j==6:\n",
    "            point+=(int(data_list[j])*3)\n",
    "    point_lst.append(point)\n",
    "p_list_copy = point_lst.copy() \n",
    "print(p_list_copy)\n",
    "for i in range(3):\n",
    "    h_point = max(p_list_copy)\n",
    "    first = n_list[point_lst.index(h_point)]\n",
    "    p_list_copy.remove(h_point)\n",
    "    if i==0:\n",
    "        print(\"First:\", first)\n",
    "    elif i==1:\n",
    "        print(\"Second:\", first)\n",
    "    else:\n",
    "        print(\"Third:\", first)   \n",
    "    \n"
   ]
  },
  {
   "cell_type": "code",
   "execution_count": 26,
   "id": "c0a9ab18",
   "metadata": {},
   "outputs": [
    {
     "name": "stdout",
     "output_type": "stream",
     "text": [
      "Please enter a string : AABAABBAA\n",
      "['AB', 'BA', 'AABB', 'BBAA', 'AAABBB', 'BBBAAA']\n",
      "AB - 2 times\n",
      "BA - 2 times\n",
      "AABB - 1 times\n",
      "BBAA - 1 times\n",
      "Longest Pattern - AABB\n"
     ]
    }
   ],
   "source": [
    "#4\n",
    "\n",
    "\n",
    "string_1 = input('Please enter a string : ')\n",
    "\n",
    "\n",
    "\n",
    "list_1 = []\n",
    "\n",
    "for i in range(1,len(string_1)//2):\n",
    "    list_1.append('A'*i+'B'*i)\n",
    "    list_1.append('B'*i+'A'*i)\n",
    "print(list_1)\n",
    "\n",
    "\n",
    "dict_1 = {}\n",
    "max = ''\n",
    "\n",
    "for i in list_1:\n",
    "    if i in string_1 :\n",
    "        count = string_1.count(i)\n",
    "        dict_1[i] = count\n",
    "        if len(i) > len(max) :\n",
    "            max = i\n",
    "\n",
    "\n",
    "\n",
    "for i, j in dict_1.items() :\n",
    "    print(i,'-',j,'times')\n",
    "\n",
    "print('Longest Pattern -',max)\n",
    "\n"
   ]
  },
  {
   "cell_type": "code",
   "execution_count": 2,
   "id": "978ded44",
   "metadata": {},
   "outputs": [
    {
     "name": "stdout",
     "output_type": "stream",
     "text": [
      "Type something:  Lorem Ipsum has been the industry's standard dummy text ever since the 1500s, when an unknown printer took a galley of type and scrambled it to make a type specimen book.\n",
      "Enter a word: red\n",
      "Number of times red can be written from the given sequence: 6\n"
     ]
    }
   ],
   "source": [
    "#5\n",
    "seq = input(\"Type something: \")\n",
    "word = input(\"Enter a word: \")\n",
    "\n",
    "x = \"\"\n",
    "dic = {}\n",
    "\n",
    "for i in seq:    \n",
    "    if i in word:\n",
    "        dic[i] = seq.count(i) \n",
    "        \n",
    "if len(dic)==len(word):\n",
    "    print(\"Number of times\",word,\"can be written from the given sequence:\",min(dic.values()))\n",
    "else:\n",
    "    print(\"Number of times\",word,\"can be written from the given sequence:\",0)\n",
    "        "
   ]
  },
  {
   "cell_type": "code",
   "execution_count": 23,
   "id": "c9fd65fd",
   "metadata": {},
   "outputs": [
    {
     "name": "stdout",
     "output_type": "stream",
     "text": [
      "{'Bangladesh': {'Batters': ('Mominul', 'Imrul'), 'Bowlers': ('Mustafiz', 'Taijul')}, 'England': {'Batters': ('Bell', 'Cook')}, 'Australia': {'Batters': ('Smith', 'Finch'), 'Bowlers': 'Starc'}}\n"
     ]
    }
   ],
   "source": [
    "#6\n",
    "my_tuple = ((\"Mominul\", 1101),(\"Mustafiz\", 1202),(\"Bell\", 2101),(\"Cook\", 2103),(\"Smith\", 3101),(\"Finch\", 3102),(\"Starc\", 3203), (\"Imrul\", 1103), (\"Taijul\", 1204))\n",
    "countries = {1:'Bangladesh', 2:'England', 3:'Australia'}\n",
    "playstyles = {1:'Batters', 2:'Bowlers'}\n",
    "dict_1 = {}\n",
    "\n",
    "for i, j in my_tuple :\n",
    "    \n",
    "    temp_string = str(j)\n",
    "    country = countries[int(temp_string[0])]\n",
    "    \n",
    "    playstyle = playstyles[int(temp_string[1])]\n",
    "    if country not in dict_1 :\n",
    "        \n",
    "        dict_1[country] = {playstyle:(i)}\n",
    "    else :\n",
    "        if playstyle not in dict_1[country] :\n",
    "            \n",
    "            dict_1[country][playstyle] = i\n",
    "        else :\n",
    "            \n",
    "            temp_list = list([dict_1[country][playstyle]])\n",
    "            \n",
    "            temp_list.append(i)\n",
    "            \n",
    "            dict_1[country][playstyle] = tuple(temp_list)\n",
    "\n",
    "print(dict_1)"
   ]
  },
  {
   "cell_type": "code",
   "execution_count": 49,
   "id": "3071bf3a",
   "metadata": {},
   "outputs": [
    {
     "name": "stdout",
     "output_type": "stream",
     "text": [
      "{'CSE': {'Undergraduate': ['CSE110', 'CSE111'], 'Graduate': ['CSE520', 'CSE650']}, 'MAT': {'Undergraduate': [], 'Graduate': ['MAT620', 'MAT510']}, 'EEE': {'Undergraduate': ['EEE361'], 'Graduate': []}}\n"
     ]
    }
   ],
   "source": [
    "#7\n",
    "courses = ['CSE110','CSE111','MAT620','CSE520','EEE361','CSE650','MAT510']\n",
    "course_dic = {}\n",
    "\n",
    "for i in courses:\n",
    "    if i[:3] not in course_dic:\n",
    "        course_dic[i[:3]] = {}\n",
    "        course_dic[i[:3]].update({'Undergraduate':[]})\n",
    "        course_dic[i[:3]].update({'Graduate':[]})\n",
    "    if int(i[3:]) < 499 :\n",
    "        course_dic[i[:3]]['Undergraduate'].append(i)\n",
    "    elif int(i[3:]) > 499:\n",
    "        course_dic[i[:3]]['Graduate'].append(i)\n",
    "        \n",
    "print(course_dic)     "
   ]
  },
  {
   "cell_type": "code",
   "execution_count": 5,
   "id": "b4ab599c",
   "metadata": {},
   "outputs": [
    {
     "name": "stdout",
     "output_type": "stream",
     "text": [
      "Please enter the ip addresses : 2 192.168.30.10,168.192.100.30,192.168.55.10,240.169.10.10,168.192.43.90,192.169.100.45\n",
      "['192', '168', '30', '10']\n",
      "['168', '192', '100', '30']\n",
      "['192', '168', '55', '10']\n",
      "['240', '169', '10', '10']\n",
      "['168', '192', '43', '90']\n",
      "['192', '169', '100', '45']\n",
      "{'192.168.0.0': ['192.168.30.10', '192.168.55.10'], '168.192.0.0': ['168.192.100.30', '168.192.43.90'], '240.169.0.0': ['240.169.10.10'], '192.169.0.0': ['192.169.100.45']}\n"
     ]
    }
   ],
   "source": [
    "#8\n",
    "# Take input from the user\n",
    "\n",
    "string_1 = input('Please enter the ip addresses : ')\n",
    "\n",
    "dict_1 = {}\n",
    "\n",
    "temp_list_1 = string_1.split()\n",
    "network = int(temp_list_1[0])\n",
    "temp_list_2 = temp_list_1[1].split(',')\n",
    "\n",
    "for i in temp_list_2 :\n",
    "    temp_list_3 = i.split('.')\n",
    "    print(temp_list_3)\n",
    "    part_1 = temp_list_3[0]\n",
    "    part_2, part_3, part_4 = ('0','0','0')\n",
    "    if network == 2:\n",
    "        part_2 = temp_list_3[1]\n",
    "    if network == 3:\n",
    "        part_3 = temp_list_3[2]\n",
    "    temp_list_4 = [part_1, part_2, part_3, part_4]\n",
    "    temp_string = ('.').join(temp_list_4)\n",
    "\n",
    "    if temp_string not in dict_1 :\n",
    "        dict_1[temp_string] = [i]\n",
    "    else :\n",
    "        dict_1[temp_string] += [i]\n",
    "\n",
    "print(dict_1)\n",
    "\n",
    "# End"
   ]
  }
 ],
 "metadata": {
  "kernelspec": {
   "display_name": "Python 3",
   "language": "python",
   "name": "python3"
  },
  "language_info": {
   "codemirror_mode": {
    "name": "ipython",
    "version": 3
   },
   "file_extension": ".py",
   "mimetype": "text/x-python",
   "name": "python",
   "nbconvert_exporter": "python",
   "pygments_lexer": "ipython3",
   "version": "3.8.8"
  }
 },
 "nbformat": 4,
 "nbformat_minor": 5
}
